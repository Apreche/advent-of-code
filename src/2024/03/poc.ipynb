{
 "cells": [
  {
   "cell_type": "code",
   "execution_count": 1,
   "metadata": {},
   "outputs": [
    {
     "name": "stdout",
     "output_type": "stream",
     "text": [
      "161\n"
     ]
    }
   ],
   "source": [
    "import re\n",
    "\n",
    "test_input = \"xmul(2,4)%&mul[3,7]!@^do_not_mul(5,5)+mul(32,64]then(mul(11,8)mul(8,5))\"\n",
    "\n",
    "pattern = r\"mul\\((\\d{1,3})\\,(\\d{1,3})\\)\"\n",
    "\n",
    "pairs = [x.groups() for x in re.finditer(pattern, test_input)]\n",
    "result = sum([int(x) * int(y) for x, y in pairs])\n",
    "print(result)"
   ]
  },
  {
   "cell_type": "code",
   "execution_count": 14,
   "metadata": {},
   "outputs": [
    {
     "name": "stdout",
     "output_type": "stream",
     "text": [
      "YYYYYYYYdon't()NNNNNNNNNNdo()YYYYYYdon't()NNNNNNNNNdon't()NNNNNNNNdon't()NNNNNNdo()YYYYYYYYYdo()YYYYYdo()YYYYdon't()NNNNNNNNNNNNNNNN\n",
      "YYYYYYYYYYYYYYYYYYYYYYYdo()YYYYYdo()YYYY\n"
     ]
    }
   ],
   "source": [
    "import re\n",
    "\n",
    "test_input = [\n",
    "    \"YYYYYYYYdon't()NNNNNNNNNNdo()YYYYYYdon't()NN\",\n",
    "    \"NNNNNNNdon't()NNNNNNNNdon't()NNNNNNdo()YYYYY\",\n",
    "    \"YYYYdo()YYYYYdo()YYYYdon't()NNNNNNNNNNNNNNNN\",\n",
    "]\n",
    "\n",
    "full_str = \"\".join(test_input)\n",
    "pattern = r\"(don\\'t\\(\\)).*?((do\\(\\))|$)\"\n",
    "re_str = re.sub(pattern, \"\", full_str)\n",
    "print(full_str)\n",
    "print(re_str)\n"
   ]
  }
 ],
 "metadata": {
  "kernelspec": {
   "display_name": ".venv",
   "language": "python",
   "name": "python3"
  },
  "language_info": {
   "codemirror_mode": {
    "name": "ipython",
    "version": 3
   },
   "file_extension": ".py",
   "mimetype": "text/x-python",
   "name": "python",
   "nbconvert_exporter": "python",
   "pygments_lexer": "ipython3",
   "version": "3.13.0"
  }
 },
 "nbformat": 4,
 "nbformat_minor": 2
}
